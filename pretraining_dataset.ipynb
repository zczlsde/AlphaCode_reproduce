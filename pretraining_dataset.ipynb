{
  "nbformat": 4,
  "nbformat_minor": 0,
  "metadata": {
    "colab": {
      "name": "pretraining_dataset.ipynb",
      "provenance": []
    },
    "kernelspec": {
      "name": "python3",
      "display_name": "Python 3"
    },
    "language_info": {
      "name": "python"
    },
    "widgets": {
      "application/vnd.jupyter.widget-state+json": {
        "692077036a6d486a8f166641ae08cad2": {
          "model_module": "@jupyter-widgets/controls",
          "model_name": "HBoxModel",
          "model_module_version": "1.5.0",
          "state": {
            "_dom_classes": [],
            "_model_module": "@jupyter-widgets/controls",
            "_model_module_version": "1.5.0",
            "_model_name": "HBoxModel",
            "_view_count": null,
            "_view_module": "@jupyter-widgets/controls",
            "_view_module_version": "1.5.0",
            "_view_name": "HBoxView",
            "box_style": "",
            "children": [
              "IPY_MODEL_25e31aeaacf744b79d537faa43e79906",
              "IPY_MODEL_6dacb2d58d0e4433b58738250187c8da",
              "IPY_MODEL_b32ec8c4c2f14db98059fa2e80ca297a"
            ],
            "layout": "IPY_MODEL_6a80cc37191249c9ac9c665ce1b1a86f"
          }
        },
        "25e31aeaacf744b79d537faa43e79906": {
          "model_module": "@jupyter-widgets/controls",
          "model_name": "HTMLModel",
          "model_module_version": "1.5.0",
          "state": {
            "_dom_classes": [],
            "_model_module": "@jupyter-widgets/controls",
            "_model_module_version": "1.5.0",
            "_model_name": "HTMLModel",
            "_view_count": null,
            "_view_module": "@jupyter-widgets/controls",
            "_view_module_version": "1.5.0",
            "_view_name": "HTMLView",
            "description": "",
            "description_tooltip": null,
            "layout": "IPY_MODEL_e507569f8ad84450a3fe9d78cd5c0259",
            "placeholder": "​",
            "style": "IPY_MODEL_c98100ee1d6d40a299f6bf7b886b32a5",
            "value": "Downloading builder script: 100%"
          }
        },
        "6dacb2d58d0e4433b58738250187c8da": {
          "model_module": "@jupyter-widgets/controls",
          "model_name": "FloatProgressModel",
          "model_module_version": "1.5.0",
          "state": {
            "_dom_classes": [],
            "_model_module": "@jupyter-widgets/controls",
            "_model_module_version": "1.5.0",
            "_model_name": "FloatProgressModel",
            "_view_count": null,
            "_view_module": "@jupyter-widgets/controls",
            "_view_module_version": "1.5.0",
            "_view_name": "ProgressView",
            "bar_style": "success",
            "description": "",
            "description_tooltip": null,
            "layout": "IPY_MODEL_e4599b5672c6409ba70d64bc428db0c5",
            "max": 7226,
            "min": 0,
            "orientation": "horizontal",
            "style": "IPY_MODEL_a452a298ca3140ecadbf345b35f960f5",
            "value": 7226
          }
        },
        "b32ec8c4c2f14db98059fa2e80ca297a": {
          "model_module": "@jupyter-widgets/controls",
          "model_name": "HTMLModel",
          "model_module_version": "1.5.0",
          "state": {
            "_dom_classes": [],
            "_model_module": "@jupyter-widgets/controls",
            "_model_module_version": "1.5.0",
            "_model_name": "HTMLModel",
            "_view_count": null,
            "_view_module": "@jupyter-widgets/controls",
            "_view_module_version": "1.5.0",
            "_view_name": "HTMLView",
            "description": "",
            "description_tooltip": null,
            "layout": "IPY_MODEL_3b259222c7134d929e39c6f118e144e6",
            "placeholder": "​",
            "style": "IPY_MODEL_d2f75981681848d092426c8f3fa38fd2",
            "value": " 7.23k/7.23k [00:00&lt;00:00, 111kB/s]"
          }
        },
        "6a80cc37191249c9ac9c665ce1b1a86f": {
          "model_module": "@jupyter-widgets/base",
          "model_name": "LayoutModel",
          "model_module_version": "1.2.0",
          "state": {
            "_model_module": "@jupyter-widgets/base",
            "_model_module_version": "1.2.0",
            "_model_name": "LayoutModel",
            "_view_count": null,
            "_view_module": "@jupyter-widgets/base",
            "_view_module_version": "1.2.0",
            "_view_name": "LayoutView",
            "align_content": null,
            "align_items": null,
            "align_self": null,
            "border": null,
            "bottom": null,
            "display": null,
            "flex": null,
            "flex_flow": null,
            "grid_area": null,
            "grid_auto_columns": null,
            "grid_auto_flow": null,
            "grid_auto_rows": null,
            "grid_column": null,
            "grid_gap": null,
            "grid_row": null,
            "grid_template_areas": null,
            "grid_template_columns": null,
            "grid_template_rows": null,
            "height": null,
            "justify_content": null,
            "justify_items": null,
            "left": null,
            "margin": null,
            "max_height": null,
            "max_width": null,
            "min_height": null,
            "min_width": null,
            "object_fit": null,
            "object_position": null,
            "order": null,
            "overflow": null,
            "overflow_x": null,
            "overflow_y": null,
            "padding": null,
            "right": null,
            "top": null,
            "visibility": null,
            "width": null
          }
        },
        "e507569f8ad84450a3fe9d78cd5c0259": {
          "model_module": "@jupyter-widgets/base",
          "model_name": "LayoutModel",
          "model_module_version": "1.2.0",
          "state": {
            "_model_module": "@jupyter-widgets/base",
            "_model_module_version": "1.2.0",
            "_model_name": "LayoutModel",
            "_view_count": null,
            "_view_module": "@jupyter-widgets/base",
            "_view_module_version": "1.2.0",
            "_view_name": "LayoutView",
            "align_content": null,
            "align_items": null,
            "align_self": null,
            "border": null,
            "bottom": null,
            "display": null,
            "flex": null,
            "flex_flow": null,
            "grid_area": null,
            "grid_auto_columns": null,
            "grid_auto_flow": null,
            "grid_auto_rows": null,
            "grid_column": null,
            "grid_gap": null,
            "grid_row": null,
            "grid_template_areas": null,
            "grid_template_columns": null,
            "grid_template_rows": null,
            "height": null,
            "justify_content": null,
            "justify_items": null,
            "left": null,
            "margin": null,
            "max_height": null,
            "max_width": null,
            "min_height": null,
            "min_width": null,
            "object_fit": null,
            "object_position": null,
            "order": null,
            "overflow": null,
            "overflow_x": null,
            "overflow_y": null,
            "padding": null,
            "right": null,
            "top": null,
            "visibility": null,
            "width": null
          }
        },
        "c98100ee1d6d40a299f6bf7b886b32a5": {
          "model_module": "@jupyter-widgets/controls",
          "model_name": "DescriptionStyleModel",
          "model_module_version": "1.5.0",
          "state": {
            "_model_module": "@jupyter-widgets/controls",
            "_model_module_version": "1.5.0",
            "_model_name": "DescriptionStyleModel",
            "_view_count": null,
            "_view_module": "@jupyter-widgets/base",
            "_view_module_version": "1.2.0",
            "_view_name": "StyleView",
            "description_width": ""
          }
        },
        "e4599b5672c6409ba70d64bc428db0c5": {
          "model_module": "@jupyter-widgets/base",
          "model_name": "LayoutModel",
          "model_module_version": "1.2.0",
          "state": {
            "_model_module": "@jupyter-widgets/base",
            "_model_module_version": "1.2.0",
            "_model_name": "LayoutModel",
            "_view_count": null,
            "_view_module": "@jupyter-widgets/base",
            "_view_module_version": "1.2.0",
            "_view_name": "LayoutView",
            "align_content": null,
            "align_items": null,
            "align_self": null,
            "border": null,
            "bottom": null,
            "display": null,
            "flex": null,
            "flex_flow": null,
            "grid_area": null,
            "grid_auto_columns": null,
            "grid_auto_flow": null,
            "grid_auto_rows": null,
            "grid_column": null,
            "grid_gap": null,
            "grid_row": null,
            "grid_template_areas": null,
            "grid_template_columns": null,
            "grid_template_rows": null,
            "height": null,
            "justify_content": null,
            "justify_items": null,
            "left": null,
            "margin": null,
            "max_height": null,
            "max_width": null,
            "min_height": null,
            "min_width": null,
            "object_fit": null,
            "object_position": null,
            "order": null,
            "overflow": null,
            "overflow_x": null,
            "overflow_y": null,
            "padding": null,
            "right": null,
            "top": null,
            "visibility": null,
            "width": null
          }
        },
        "a452a298ca3140ecadbf345b35f960f5": {
          "model_module": "@jupyter-widgets/controls",
          "model_name": "ProgressStyleModel",
          "model_module_version": "1.5.0",
          "state": {
            "_model_module": "@jupyter-widgets/controls",
            "_model_module_version": "1.5.0",
            "_model_name": "ProgressStyleModel",
            "_view_count": null,
            "_view_module": "@jupyter-widgets/base",
            "_view_module_version": "1.2.0",
            "_view_name": "StyleView",
            "bar_color": null,
            "description_width": ""
          }
        },
        "3b259222c7134d929e39c6f118e144e6": {
          "model_module": "@jupyter-widgets/base",
          "model_name": "LayoutModel",
          "model_module_version": "1.2.0",
          "state": {
            "_model_module": "@jupyter-widgets/base",
            "_model_module_version": "1.2.0",
            "_model_name": "LayoutModel",
            "_view_count": null,
            "_view_module": "@jupyter-widgets/base",
            "_view_module_version": "1.2.0",
            "_view_name": "LayoutView",
            "align_content": null,
            "align_items": null,
            "align_self": null,
            "border": null,
            "bottom": null,
            "display": null,
            "flex": null,
            "flex_flow": null,
            "grid_area": null,
            "grid_auto_columns": null,
            "grid_auto_flow": null,
            "grid_auto_rows": null,
            "grid_column": null,
            "grid_gap": null,
            "grid_row": null,
            "grid_template_areas": null,
            "grid_template_columns": null,
            "grid_template_rows": null,
            "height": null,
            "justify_content": null,
            "justify_items": null,
            "left": null,
            "margin": null,
            "max_height": null,
            "max_width": null,
            "min_height": null,
            "min_width": null,
            "object_fit": null,
            "object_position": null,
            "order": null,
            "overflow": null,
            "overflow_x": null,
            "overflow_y": null,
            "padding": null,
            "right": null,
            "top": null,
            "visibility": null,
            "width": null
          }
        },
        "d2f75981681848d092426c8f3fa38fd2": {
          "model_module": "@jupyter-widgets/controls",
          "model_name": "DescriptionStyleModel",
          "model_module_version": "1.5.0",
          "state": {
            "_model_module": "@jupyter-widgets/controls",
            "_model_module_version": "1.5.0",
            "_model_name": "DescriptionStyleModel",
            "_view_count": null,
            "_view_module": "@jupyter-widgets/base",
            "_view_module_version": "1.2.0",
            "_view_name": "StyleView",
            "description_width": ""
          }
        }
      }
    }
  },
  "cells": [
    {
      "cell_type": "code",
      "source": [
        "!pip install datasets"
      ],
      "metadata": {
        "colab": {
          "base_uri": "https://localhost:8080/"
        },
        "id": "JIPEc-FVr9w_",
        "outputId": "bf119cff-144a-4cfd-8f06-a237d7a87eec"
      },
      "execution_count": null,
      "outputs": [
        {
          "output_type": "stream",
          "name": "stdout",
          "text": [
            "Looking in indexes: https://pypi.org/simple, https://us-python.pkg.dev/colab-wheels/public/simple/\n",
            "Collecting datasets\n",
            "  Downloading datasets-2.3.2-py3-none-any.whl (362 kB)\n",
            "\u001b[K     |████████████████████████████████| 362 kB 5.0 MB/s \n",
            "\u001b[?25hRequirement already satisfied: tqdm>=4.62.1 in /usr/local/lib/python3.7/dist-packages (from datasets) (4.64.0)\n",
            "Collecting aiohttp\n",
            "  Downloading aiohttp-3.8.1-cp37-cp37m-manylinux_2_5_x86_64.manylinux1_x86_64.manylinux_2_12_x86_64.manylinux2010_x86_64.whl (1.1 MB)\n",
            "\u001b[K     |████████████████████████████████| 1.1 MB 50.6 MB/s \n",
            "\u001b[?25hRequirement already satisfied: requests>=2.19.0 in /usr/local/lib/python3.7/dist-packages (from datasets) (2.23.0)\n",
            "Requirement already satisfied: dill<0.3.6 in /usr/local/lib/python3.7/dist-packages (from datasets) (0.3.5.1)\n",
            "Collecting fsspec[http]>=2021.05.0\n",
            "  Downloading fsspec-2022.5.0-py3-none-any.whl (140 kB)\n",
            "\u001b[K     |████████████████████████████████| 140 kB 47.0 MB/s \n",
            "\u001b[?25hCollecting xxhash\n",
            "  Downloading xxhash-3.0.0-cp37-cp37m-manylinux_2_17_x86_64.manylinux2014_x86_64.whl (212 kB)\n",
            "\u001b[K     |████████████████████████████████| 212 kB 49.3 MB/s \n",
            "\u001b[?25hRequirement already satisfied: pyarrow>=6.0.0 in /usr/local/lib/python3.7/dist-packages (from datasets) (6.0.1)\n",
            "Requirement already satisfied: packaging in /usr/local/lib/python3.7/dist-packages (from datasets) (21.3)\n",
            "Requirement already satisfied: numpy>=1.17 in /usr/local/lib/python3.7/dist-packages (from datasets) (1.21.6)\n",
            "Collecting huggingface-hub<1.0.0,>=0.1.0\n",
            "  Downloading huggingface_hub-0.8.1-py3-none-any.whl (101 kB)\n",
            "\u001b[K     |████████████████████████████████| 101 kB 10.4 MB/s \n",
            "\u001b[?25hRequirement already satisfied: importlib-metadata in /usr/local/lib/python3.7/dist-packages (from datasets) (4.11.4)\n",
            "Collecting responses<0.19\n",
            "  Downloading responses-0.18.0-py3-none-any.whl (38 kB)\n",
            "Requirement already satisfied: multiprocess in /usr/local/lib/python3.7/dist-packages (from datasets) (0.70.13)\n",
            "Requirement already satisfied: pandas in /usr/local/lib/python3.7/dist-packages (from datasets) (1.3.5)\n",
            "Requirement already satisfied: typing-extensions>=3.7.4.3 in /usr/local/lib/python3.7/dist-packages (from huggingface-hub<1.0.0,>=0.1.0->datasets) (4.1.1)\n",
            "Requirement already satisfied: filelock in /usr/local/lib/python3.7/dist-packages (from huggingface-hub<1.0.0,>=0.1.0->datasets) (3.7.1)\n",
            "Collecting pyyaml>=5.1\n",
            "  Downloading PyYAML-6.0-cp37-cp37m-manylinux_2_5_x86_64.manylinux1_x86_64.manylinux_2_12_x86_64.manylinux2010_x86_64.whl (596 kB)\n",
            "\u001b[K     |████████████████████████████████| 596 kB 42.3 MB/s \n",
            "\u001b[?25hRequirement already satisfied: pyparsing!=3.0.5,>=2.0.2 in /usr/local/lib/python3.7/dist-packages (from packaging->datasets) (3.0.9)\n",
            "Requirement already satisfied: certifi>=2017.4.17 in /usr/local/lib/python3.7/dist-packages (from requests>=2.19.0->datasets) (2022.6.15)\n",
            "Requirement already satisfied: idna<3,>=2.5 in /usr/local/lib/python3.7/dist-packages (from requests>=2.19.0->datasets) (2.10)\n",
            "Requirement already satisfied: chardet<4,>=3.0.2 in /usr/local/lib/python3.7/dist-packages (from requests>=2.19.0->datasets) (3.0.4)\n",
            "Requirement already satisfied: urllib3!=1.25.0,!=1.25.1,<1.26,>=1.21.1 in /usr/local/lib/python3.7/dist-packages (from requests>=2.19.0->datasets) (1.24.3)\n",
            "Collecting urllib3!=1.25.0,!=1.25.1,<1.26,>=1.21.1\n",
            "  Downloading urllib3-1.25.11-py2.py3-none-any.whl (127 kB)\n",
            "\u001b[K     |████████████████████████████████| 127 kB 51.0 MB/s \n",
            "\u001b[?25hCollecting multidict<7.0,>=4.5\n",
            "  Downloading multidict-6.0.2-cp37-cp37m-manylinux_2_17_x86_64.manylinux2014_x86_64.whl (94 kB)\n",
            "\u001b[K     |████████████████████████████████| 94 kB 773 kB/s \n",
            "\u001b[?25hCollecting asynctest==0.13.0\n",
            "  Downloading asynctest-0.13.0-py3-none-any.whl (26 kB)\n",
            "Requirement already satisfied: charset-normalizer<3.0,>=2.0 in /usr/local/lib/python3.7/dist-packages (from aiohttp->datasets) (2.0.12)\n",
            "Collecting async-timeout<5.0,>=4.0.0a3\n",
            "  Downloading async_timeout-4.0.2-py3-none-any.whl (5.8 kB)\n",
            "Collecting yarl<2.0,>=1.0\n",
            "  Downloading yarl-1.7.2-cp37-cp37m-manylinux_2_5_x86_64.manylinux1_x86_64.manylinux_2_12_x86_64.manylinux2010_x86_64.whl (271 kB)\n",
            "\u001b[K     |████████████████████████████████| 271 kB 71.4 MB/s \n",
            "\u001b[?25hRequirement already satisfied: attrs>=17.3.0 in /usr/local/lib/python3.7/dist-packages (from aiohttp->datasets) (21.4.0)\n",
            "Collecting frozenlist>=1.1.1\n",
            "  Downloading frozenlist-1.3.0-cp37-cp37m-manylinux_2_5_x86_64.manylinux1_x86_64.manylinux_2_17_x86_64.manylinux2014_x86_64.whl (144 kB)\n",
            "\u001b[K     |████████████████████████████████| 144 kB 46.0 MB/s \n",
            "\u001b[?25hCollecting aiosignal>=1.1.2\n",
            "  Downloading aiosignal-1.2.0-py3-none-any.whl (8.2 kB)\n",
            "Requirement already satisfied: zipp>=0.5 in /usr/local/lib/python3.7/dist-packages (from importlib-metadata->datasets) (3.8.0)\n",
            "Requirement already satisfied: python-dateutil>=2.7.3 in /usr/local/lib/python3.7/dist-packages (from pandas->datasets) (2.8.2)\n",
            "Requirement already satisfied: pytz>=2017.3 in /usr/local/lib/python3.7/dist-packages (from pandas->datasets) (2022.1)\n",
            "Requirement already satisfied: six>=1.5 in /usr/local/lib/python3.7/dist-packages (from python-dateutil>=2.7.3->pandas->datasets) (1.15.0)\n",
            "Installing collected packages: multidict, frozenlist, yarl, urllib3, asynctest, async-timeout, aiosignal, pyyaml, fsspec, aiohttp, xxhash, responses, huggingface-hub, datasets\n",
            "  Attempting uninstall: urllib3\n",
            "    Found existing installation: urllib3 1.24.3\n",
            "    Uninstalling urllib3-1.24.3:\n",
            "      Successfully uninstalled urllib3-1.24.3\n",
            "  Attempting uninstall: pyyaml\n",
            "    Found existing installation: PyYAML 3.13\n",
            "    Uninstalling PyYAML-3.13:\n",
            "      Successfully uninstalled PyYAML-3.13\n",
            "\u001b[31mERROR: pip's dependency resolver does not currently take into account all the packages that are installed. This behaviour is the source of the following dependency conflicts.\n",
            "datascience 0.10.6 requires folium==0.2.1, but you have folium 0.8.3 which is incompatible.\u001b[0m\n",
            "Successfully installed aiohttp-3.8.1 aiosignal-1.2.0 async-timeout-4.0.2 asynctest-0.13.0 datasets-2.3.2 frozenlist-1.3.0 fsspec-2022.5.0 huggingface-hub-0.8.1 multidict-6.0.2 pyyaml-6.0 responses-0.18.0 urllib3-1.25.11 xxhash-3.0.0 yarl-1.7.2\n"
          ]
        }
      ]
    },
    {
      "cell_type": "code",
      "execution_count": null,
      "metadata": {
        "colab": {
          "base_uri": "https://localhost:8080/",
          "height": 105,
          "referenced_widgets": [
            "692077036a6d486a8f166641ae08cad2",
            "25e31aeaacf744b79d537faa43e79906",
            "6dacb2d58d0e4433b58738250187c8da",
            "b32ec8c4c2f14db98059fa2e80ca297a",
            "6a80cc37191249c9ac9c665ce1b1a86f",
            "e507569f8ad84450a3fe9d78cd5c0259",
            "c98100ee1d6d40a299f6bf7b886b32a5",
            "e4599b5672c6409ba70d64bc428db0c5",
            "a452a298ca3140ecadbf345b35f960f5",
            "3b259222c7134d929e39c6f118e144e6",
            "d2f75981681848d092426c8f3fa38fd2"
          ]
        },
        "id": "CFTSKicdr3ts",
        "outputId": "5211c560-ffb5-46a3-d874-554da56213bd"
      },
      "outputs": [
        {
          "output_type": "display_data",
          "data": {
            "text/plain": [
              "Downloading builder script:   0%|          | 0.00/7.23k [00:00<?, ?B/s]"
            ],
            "application/vnd.jupyter.widget-view+json": {
              "version_major": 2,
              "version_minor": 0,
              "model_id": "692077036a6d486a8f166641ae08cad2"
            }
          },
          "metadata": {}
        },
        {
          "output_type": "stream",
          "name": "stderr",
          "text": [
            "No config specified, defaulting to: github-code/all-all\n"
          ]
        },
        {
          "output_type": "stream",
          "name": "stdout",
          "text": [
            "{'code': '\\'use strict\\';\\n\\nvar clear          = require(\\'es5-ext/array/#/clear\\')\\n  , eIndexOf       = require(\\'es5-ext/array/#/e-index-of\\')\\n  , setPrototypeOf = require(\\'es5-ext/object/set-prototype-of\\')\\n  , callable       = require(\\'es5-ext/object/valid-callable\\')\\n  , d              = require(\\'d\\')\\n  , ee             = require(\\'event-emitter\\')\\n  , Symbol         = require(\\'es6-symbol\\')\\n  , iterator       = require(\\'es6-iterator/valid-iterable\\')\\n  , forOf          = require(\\'es6-iterator/for-of\\')\\n  , Iterator       = require(\\'./lib/iterator\\')\\n  , isNative       = require(\\'./is-native-implemented\\')\\n\\n  , call = Function.prototype.call, defineProperty = Object.defineProperty\\n  , SetPoly, getValues;\\n\\nmodule.exports = SetPoly = function (/*iterable*/) {\\n\\tvar iterable = arguments[0];\\n\\tif (!(this instanceof SetPoly)) return new SetPoly(iterable);\\n\\tif (this.__setData__ !== undefined) {\\n\\t\\tthrow new TypeError(this + \" cannot be reinitialized\");\\n\\t}\\n\\tif (iterable != null) iterator(iterable);\\n\\tdefineProperty(this, \\'__setData__\\', d(\\'c\\', []));\\n\\tif (!iterable) return;\\n\\tforOf(iterable, function (value) {\\n\\t\\tif (eIndexOf.call(this, value) !== -1) return;\\n\\t\\tthis.push(value);\\n\\t}, this.__setData__);\\n};\\n\\nif (isNative) {\\n\\tif (setPrototypeOf) setPrototypeOf(SetPoly, Set);\\n\\tSetPoly.prototype = Object.create(Set.prototype, {\\n\\t\\tconstructor: d(SetPoly)\\n\\t});\\n}\\n\\nee(Object.defineProperties(SetPoly.prototype, {\\n\\tadd: d(function (value) {\\n\\t\\tif (this.has(value)) return this;\\n\\t\\tthis.emit(\\'_add\\', this.__setData__.push(value) - 1, value);\\n\\t\\treturn this;\\n\\t}),\\n\\tclear: d(function () {\\n\\t\\tif (!this.__setData__.length) return;\\n\\t\\tclear.call(this.__setData__);\\n\\t\\tthis.emit(\\'_clear\\');\\n\\t}),\\n\\tdelete: d(function (value) {\\n\\t\\tvar index = eIndexOf.call(this.__setData__, value);\\n\\t\\tif (index === -1) return false;\\n\\t\\tthis.__setData__.splice(index, 1);\\n\\t\\tthis.emit(\\'_delete\\', index, value);\\n\\t\\treturn true;\\n\\t}),\\n\\tentries: d(function () { return new Iterator(this, \\'key+value\\'); }),\\n\\tforEach: d(function (cb/*, thisArg*/) {\\n\\t\\tvar thisArg = arguments[1], iterator, result, value;\\n\\t\\tcallable(cb);\\n\\t\\titerator = this.values();\\n\\t\\tresult = iterator._next();\\n\\t\\twhile (result !== undefined) {\\n\\t\\t\\tvalue = iterator._resolve(result);\\n\\t\\t\\tcall.call(cb, thisArg, value, value, this);\\n\\t\\t\\tresult = iterator._next();\\n\\t\\t}\\n\\t}),\\n\\thas: d(function (value) {\\n\\t\\treturn (eIndexOf.call(this.__setData__, value) !== -1);\\n\\t}),\\n\\tkeys: d(getValues = function () { return this.values(); }),\\n\\tsize: d.gs(function () { return this.__setData__.length; }),\\n\\tvalues: d(function () { return new Iterator(this); }),\\n\\ttoString: d(function () { return \\'[object Set]\\'; })\\n}));\\ndefineProperty(SetPoly.prototype, Symbol.iterator, d(getValues));\\ndefineProperty(SetPoly.prototype, Symbol.toStringTag, d(\\'c\\', \\'Set\\'));\\n', 'repo_name': 'Socratacom/socrata-europe', 'path': 'wp-content/themes/sage/node_modules/asset-builder/node_modules/main-bower-files/node_modules/vinyl-fs/node_modules/glob-stream/node_modules/unique-stream/node_modules/es6-set/polyfill.js', 'language': 'JavaScript', 'license': 'gpl-2.0', 'size': 2730}\n"
          ]
        }
      ],
      "source": [
        "from datasets import load_dataset\n",
        "\n",
        "ds = load_dataset(\"codeparrot/github-code\", streaming=True, split=\"train\")\n",
        "print(next(iter(ds)))\n",
        "\n",
        "# #OUTPUT:\n",
        "# {\n",
        "#  'code': \"import mod189 from './mod189';\\nvar value=mod189+1;\\nexport default value;\\n\",\n",
        "#  'repo_name': 'MirekSz/webpack-es6-ts',\n",
        "#  'path': 'app/mods/mod190.js',\n",
        "#  'language': 'JavaScript',\n",
        "#  'license': 'isc',\n",
        "#  'size': 73\n",
        "# }\n"
      ]
    },
    {
      "cell_type": "code",
      "source": [
        "print(next(iter(ds))[\"code\"])"
      ],
      "metadata": {
        "colab": {
          "base_uri": "https://localhost:8080/"
        },
        "id": "u-ViS7RIwqXe",
        "outputId": "fb593928-1f3e-4ffc-91aa-d9ad98af34bc"
      },
      "execution_count": null,
      "outputs": [
        {
          "output_type": "stream",
          "name": "stdout",
          "text": [
            "FROM johnnyasantoss/dotnet-mono-docker:dotnet2.0-mono5.2-sdk\n",
            "\n",
            "WORKDIR /app\n",
            "\n",
            "COPY ./** /app/\n",
            "\n",
            "RUN apt-get update && apt-get install -y libgit2-24\n",
            "\n",
            "RUN ./build.sh -t \"pack\" -v > dockerbuild.txt 2>&1\n",
            "\n"
          ]
        }
      ]
    },
    {
      "cell_type": "code",
      "source": [
        "ds.description"
      ],
      "metadata": {
        "colab": {
          "base_uri": "https://localhost:8080/",
          "height": 54
        },
        "id": "Znmy9z-0vmJ6",
        "outputId": "f17ff6d4-e147-454c-84d8-f0266cf508fd"
      },
      "execution_count": null,
      "outputs": [
        {
          "output_type": "execute_result",
          "data": {
            "text/plain": [
              "'The GitHub Code dataest consists of 115M code files from GitHub in 32 programming languages with 60 extensions totalling in 1TB of text data. The dataset was created from the GitHub dataset on BiqQuery.\\n'"
            ],
            "application/vnd.google.colaboratory.intrinsic+json": {
              "type": "string"
            }
          },
          "metadata": {},
          "execution_count": 14
        }
      ]
    },
    {
      "cell_type": "code",
      "source": [
        "print(ds.dataset_size)"
      ],
      "metadata": {
        "colab": {
          "base_uri": "https://localhost:8080/"
        },
        "id": "arK2xzPas_RH",
        "outputId": "bb5a30bc-c3d3-4aab-8bc8-03818d2e3606"
      },
      "execution_count": null,
      "outputs": [
        {
          "output_type": "stream",
          "name": "stdout",
          "text": [
            "None\n"
          ]
        }
      ]
    },
    {
      "cell_type": "code",
      "source": [
        "ds = load_dataset(\"codeparrot/github-code\", streaming=True, split=\"train\", languages=[\"Python\"])\n",
        "print(next(iter(ds))[\"code\"])"
      ],
      "metadata": {
        "colab": {
          "base_uri": "https://localhost:8080/"
        },
        "id": "df-qBViascbH",
        "outputId": "73e787e4-a068-47eb-d157-b87f794e4521"
      },
      "execution_count": null,
      "outputs": [
        {
          "output_type": "stream",
          "name": "stderr",
          "text": [
            "Using custom data configuration Python-all-a057a1f71eb55e12\n"
          ]
        },
        {
          "output_type": "stream",
          "name": "stdout",
          "text": [
            "from django import forms\n",
            "from django.core.exceptions import ValidationError\n",
            "from django.core.validators import validate_slug\n",
            "from django.db import models\n",
            "from django.utils import simplejson as json\n",
            "from django.utils.text import capfirst\n",
            "from django.utils.translation import ugettext_lazy as _\n",
            "\n",
            "from philo.forms.fields import JSONFormField\n",
            "from philo.utils.registry import RegistryIterator\n",
            "from philo.validators import TemplateValidator, json_validator\n",
            "#from philo.models.fields.entities import *\n",
            "\n",
            "\n",
            "class TemplateField(models.TextField):\n",
            "\t\"\"\"A :class:`TextField` which is validated with a :class:`.TemplateValidator`. ``allow``, ``disallow``, and ``secure`` will be passed into the validator's construction.\"\"\"\n",
            "\tdef __init__(self, allow=None, disallow=None, secure=True, *args, **kwargs):\n",
            "\t\tsuper(TemplateField, self).__init__(*args, **kwargs)\n",
            "\t\tself.validators.append(TemplateValidator(allow, disallow, secure))\n",
            "\n",
            "\n",
            "class JSONDescriptor(object):\n",
            "\tdef __init__(self, field):\n",
            "\t\tself.field = field\n",
            "\t\n",
            "\tdef __get__(self, instance, owner):\n",
            "\t\tif instance is None:\n",
            "\t\t\traise AttributeError # ?\n",
            "\t\t\n",
            "\t\tif self.field.name not in instance.__dict__:\n",
            "\t\t\tjson_string = getattr(instance, self.field.attname)\n",
            "\t\t\tinstance.__dict__[self.field.name] = json.loads(json_string)\n",
            "\t\t\n",
            "\t\treturn instance.__dict__[self.field.name]\n",
            "\t\n",
            "\tdef __set__(self, instance, value):\n",
            "\t\tinstance.__dict__[self.field.name] = value\n",
            "\t\tsetattr(instance, self.field.attname, json.dumps(value))\n",
            "\t\n",
            "\tdef __delete__(self, instance):\n",
            "\t\tdel(instance.__dict__[self.field.name])\n",
            "\t\tsetattr(instance, self.field.attname, json.dumps(None))\n",
            "\n",
            "\n",
            "class JSONField(models.TextField):\n",
            "\t\"\"\"A :class:`TextField` which stores its value on the model instance as a python object and stores its value in the database as JSON. Validated with :func:`.json_validator`.\"\"\"\n",
            "\tdefault_validators = [json_validator]\n",
            "\t\n",
            "\tdef get_attname(self):\n",
            "\t\treturn \"%s_json\" % self.name\n",
            "\t\n",
            "\tdef contribute_to_class(self, cls, name):\n",
            "\t\tsuper(JSONField, self).contribute_to_class(cls, name)\n",
            "\t\tsetattr(cls, name, JSONDescriptor(self))\n",
            "\t\tmodels.signals.pre_init.connect(self.fix_init_kwarg, sender=cls)\n",
            "\t\n",
            "\tdef fix_init_kwarg(self, sender, args, kwargs, **signal_kwargs):\n",
            "\t\t# Anything passed in as self.name is assumed to come from a serializer and\n",
            "\t\t# will be treated as a json string.\n",
            "\t\tif self.name in kwargs:\n",
            "\t\t\tvalue = kwargs.pop(self.name)\n",
            "\t\t\t\n",
            "\t\t\t# Hack to handle the xml serializer's handling of \"null\"\n",
            "\t\t\tif value is None:\n",
            "\t\t\t\tvalue = 'null'\n",
            "\t\t\t\n",
            "\t\t\tkwargs[self.attname] = value\n",
            "\t\n",
            "\tdef formfield(self, *args, **kwargs):\n",
            "\t\tkwargs[\"form_class\"] = JSONFormField\n",
            "\t\treturn super(JSONField, self).formfield(*args, **kwargs)\n",
            "\n",
            "\n",
            "class SlugMultipleChoiceField(models.Field):\n",
            "\t\"\"\"Stores a selection of multiple items with unique slugs in the form of a comma-separated list. Also knows how to correctly handle :class:`RegistryIterator`\\ s passed in as choices.\"\"\"\n",
            "\t__metaclass__ = models.SubfieldBase\n",
            "\tdescription = _(\"Comma-separated slug field\")\n",
            "\t\n",
            "\tdef get_internal_type(self):\n",
            "\t\treturn \"TextField\"\n",
            "\t\n",
            "\tdef to_python(self, value):\n",
            "\t\tif not value:\n",
            "\t\t\treturn []\n",
            "\t\t\n",
            "\t\tif isinstance(value, list):\n",
            "\t\t\treturn value\n",
            "\t\t\n",
            "\t\treturn value.split(',')\n",
            "\t\n",
            "\tdef get_prep_value(self, value):\n",
            "\t\treturn ','.join(value)\n",
            "\t\n",
            "\tdef formfield(self, **kwargs):\n",
            "\t\t# This is necessary because django hard-codes TypedChoiceField for things with choices.\n",
            "\t\tdefaults = {\n",
            "\t\t\t'widget': forms.CheckboxSelectMultiple,\n",
            "\t\t\t'choices': self.get_choices(include_blank=False),\n",
            "\t\t\t'label': capfirst(self.verbose_name),\n",
            "\t\t\t'required': not self.blank,\n",
            "\t\t\t'help_text': self.help_text\n",
            "\t\t}\n",
            "\t\tif self.has_default():\n",
            "\t\t\tif callable(self.default):\n",
            "\t\t\t\tdefaults['initial'] = self.default\n",
            "\t\t\t\tdefaults['show_hidden_initial'] = True\n",
            "\t\t\telse:\n",
            "\t\t\t\tdefaults['initial'] = self.get_default()\n",
            "\t\t\n",
            "\t\tfor k in kwargs.keys():\n",
            "\t\t\tif k not in ('coerce', 'empty_value', 'choices', 'required',\n",
            "\t\t\t\t\t\t 'widget', 'label', 'initial', 'help_text',\n",
            "\t\t\t\t\t\t 'error_messages', 'show_hidden_initial'):\n",
            "\t\t\t\tdel kwargs[k]\n",
            "\t\t\n",
            "\t\tdefaults.update(kwargs)\n",
            "\t\tform_class = forms.TypedMultipleChoiceField\n",
            "\t\treturn form_class(**defaults)\n",
            "\t\n",
            "\tdef validate(self, value, model_instance):\n",
            "\t\tinvalid_values = []\n",
            "\t\tfor val in value:\n",
            "\t\t\ttry:\n",
            "\t\t\t\tvalidate_slug(val)\n",
            "\t\t\texcept ValidationError:\n",
            "\t\t\t\tinvalid_values.append(val)\n",
            "\t\t\n",
            "\t\tif invalid_values:\n",
            "\t\t\t# should really make a custom message.\n",
            "\t\t\traise ValidationError(self.error_messages['invalid_choice'] % invalid_values)\n",
            "\t\n",
            "\tdef _get_choices(self):\n",
            "\t\tif isinstance(self._choices, RegistryIterator):\n",
            "\t\t\treturn self._choices.copy()\n",
            "\t\telif hasattr(self._choices, 'next'):\n",
            "\t\t\tchoices, self._choices = itertools.tee(self._choices)\n",
            "\t\t\treturn choices\n",
            "\t\telse:\n",
            "\t\t\treturn self._choices\n",
            "\tchoices = property(_get_choices)\n",
            "\n",
            "\n",
            "try:\n",
            "\tfrom south.modelsinspector import add_introspection_rules\n",
            "except ImportError:\n",
            "\tpass\n",
            "else:\n",
            "\tadd_introspection_rules([], [\"^philo\\.models\\.fields\\.SlugMultipleChoiceField\"])\n",
            "\tadd_introspection_rules([], [\"^philo\\.models\\.fields\\.TemplateField\"])\n",
            "\tadd_introspection_rules([], [\"^philo\\.models\\.fields\\.JSONField\"])\n"
          ]
        }
      ]
    }
  ]
}